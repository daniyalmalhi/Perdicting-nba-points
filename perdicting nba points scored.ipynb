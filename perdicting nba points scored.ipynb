{
 "cells": [
  {
   "cell_type": "code",
   "execution_count": 1,
   "id": "48e9544c",
   "metadata": {
    "_cell_guid": "b1076dfc-b9ad-4769-8c92-a6c4dae69d19",
    "_uuid": "8f2839f25d086af736a60e9eeb907d3b93b6e0e5",
    "execution": {
     "iopub.execute_input": "2021-07-22T07:41:41.350052Z",
     "iopub.status.busy": "2021-07-22T07:41:41.348822Z",
     "iopub.status.idle": "2021-07-22T07:41:41.408945Z",
     "shell.execute_reply": "2021-07-22T07:41:41.407864Z",
     "shell.execute_reply.started": "2021-07-21T10:12:31.632001Z"
    },
    "papermill": {
     "duration": 0.096743,
     "end_time": "2021-07-22T07:41:41.409226",
     "exception": false,
     "start_time": "2021-07-22T07:41:41.312483",
     "status": "completed"
    },
    "tags": []
   },
   "outputs": [],
   "source": [
    "import numpy as np \n",
    "import pandas as pd\n"
   ]
  },
  {
   "cell_type": "code",
   "execution_count": 5,
   "id": "dd9d9441",
   "metadata": {
    "execution": {
     "iopub.execute_input": "2021-07-22T07:41:41.573931Z",
     "iopub.status.busy": "2021-07-22T07:41:41.573266Z",
     "iopub.status.idle": "2021-07-22T07:41:41.687744Z",
     "shell.execute_reply": "2021-07-22T07:41:41.687155Z",
     "shell.execute_reply.started": "2021-07-21T10:12:32.020988Z"
    },
    "papermill": {
     "duration": 0.151388,
     "end_time": "2021-07-22T07:41:41.687880",
     "exception": false,
     "start_time": "2021-07-22T07:41:41.536492",
     "status": "completed"
    },
    "tags": []
   },
   "outputs": [],
   "source": [
    "df = pd.read_csv('nba.csv')"
   ]
  },
  {
   "cell_type": "code",
   "execution_count": 7,
   "id": "906acfd9",
   "metadata": {
    "execution": {
     "iopub.execute_input": "2021-07-22T07:41:41.769770Z",
     "iopub.status.busy": "2021-07-22T07:41:41.768941Z",
     "iopub.status.idle": "2021-07-22T07:41:41.803970Z",
     "shell.execute_reply": "2021-07-22T07:41:41.803446Z",
     "shell.execute_reply.started": "2021-07-21T10:12:32.221881Z"
    },
    "papermill": {
     "duration": 0.08387,
     "end_time": "2021-07-22T07:41:41.804117",
     "exception": false,
     "start_time": "2021-07-22T07:41:41.720247",
     "status": "completed"
    },
    "tags": []
   },
   "outputs": [
    {
     "data": {
      "text/html": [
       "<div>\n",
       "<style scoped>\n",
       "    .dataframe tbody tr th:only-of-type {\n",
       "        vertical-align: middle;\n",
       "    }\n",
       "\n",
       "    .dataframe tbody tr th {\n",
       "        vertical-align: top;\n",
       "    }\n",
       "\n",
       "    .dataframe thead th {\n",
       "        text-align: right;\n",
       "    }\n",
       "</style>\n",
       "<table border=\"1\" class=\"dataframe\">\n",
       "  <thead>\n",
       "    <tr style=\"text-align: right;\">\n",
       "      <th></th>\n",
       "      <th>Name</th>\n",
       "      <th>GP</th>\n",
       "      <th>MIN</th>\n",
       "      <th>PTS</th>\n",
       "      <th>FGM</th>\n",
       "      <th>FGA</th>\n",
       "      <th>FG%</th>\n",
       "      <th>3P Made</th>\n",
       "      <th>3PA</th>\n",
       "      <th>3P%</th>\n",
       "      <th>...</th>\n",
       "      <th>FTA</th>\n",
       "      <th>FT%</th>\n",
       "      <th>OREB</th>\n",
       "      <th>DREB</th>\n",
       "      <th>REB</th>\n",
       "      <th>AST</th>\n",
       "      <th>STL</th>\n",
       "      <th>BLK</th>\n",
       "      <th>TOV</th>\n",
       "      <th>TARGET_5Yrs</th>\n",
       "    </tr>\n",
       "  </thead>\n",
       "  <tbody>\n",
       "    <tr>\n",
       "      <th>0</th>\n",
       "      <td>Brandon Ingram</td>\n",
       "      <td>36</td>\n",
       "      <td>27.4</td>\n",
       "      <td>7.4</td>\n",
       "      <td>2.6</td>\n",
       "      <td>7.6</td>\n",
       "      <td>34.7</td>\n",
       "      <td>0.5</td>\n",
       "      <td>2.1</td>\n",
       "      <td>25.0</td>\n",
       "      <td>...</td>\n",
       "      <td>2.3</td>\n",
       "      <td>69.9</td>\n",
       "      <td>0.7</td>\n",
       "      <td>3.4</td>\n",
       "      <td>4.1</td>\n",
       "      <td>1.9</td>\n",
       "      <td>0.4</td>\n",
       "      <td>0.4</td>\n",
       "      <td>1.3</td>\n",
       "      <td>0</td>\n",
       "    </tr>\n",
       "    <tr>\n",
       "      <th>1</th>\n",
       "      <td>Andrew Harrison</td>\n",
       "      <td>35</td>\n",
       "      <td>26.9</td>\n",
       "      <td>7.2</td>\n",
       "      <td>2.0</td>\n",
       "      <td>6.7</td>\n",
       "      <td>29.6</td>\n",
       "      <td>0.7</td>\n",
       "      <td>2.8</td>\n",
       "      <td>23.5</td>\n",
       "      <td>...</td>\n",
       "      <td>3.4</td>\n",
       "      <td>76.5</td>\n",
       "      <td>0.5</td>\n",
       "      <td>2.0</td>\n",
       "      <td>2.4</td>\n",
       "      <td>3.7</td>\n",
       "      <td>1.1</td>\n",
       "      <td>0.5</td>\n",
       "      <td>1.6</td>\n",
       "      <td>0</td>\n",
       "    </tr>\n",
       "    <tr>\n",
       "      <th>2</th>\n",
       "      <td>JaKarr Sampson</td>\n",
       "      <td>74</td>\n",
       "      <td>15.3</td>\n",
       "      <td>5.2</td>\n",
       "      <td>2.0</td>\n",
       "      <td>4.7</td>\n",
       "      <td>42.2</td>\n",
       "      <td>0.4</td>\n",
       "      <td>1.7</td>\n",
       "      <td>24.4</td>\n",
       "      <td>...</td>\n",
       "      <td>1.3</td>\n",
       "      <td>67.0</td>\n",
       "      <td>0.5</td>\n",
       "      <td>1.7</td>\n",
       "      <td>2.2</td>\n",
       "      <td>1.0</td>\n",
       "      <td>0.5</td>\n",
       "      <td>0.3</td>\n",
       "      <td>1.0</td>\n",
       "      <td>0</td>\n",
       "    </tr>\n",
       "    <tr>\n",
       "      <th>3</th>\n",
       "      <td>Malik Sealy</td>\n",
       "      <td>58</td>\n",
       "      <td>11.6</td>\n",
       "      <td>5.7</td>\n",
       "      <td>2.3</td>\n",
       "      <td>5.5</td>\n",
       "      <td>42.6</td>\n",
       "      <td>0.1</td>\n",
       "      <td>0.5</td>\n",
       "      <td>22.6</td>\n",
       "      <td>...</td>\n",
       "      <td>1.3</td>\n",
       "      <td>68.9</td>\n",
       "      <td>1.0</td>\n",
       "      <td>0.9</td>\n",
       "      <td>1.9</td>\n",
       "      <td>0.8</td>\n",
       "      <td>0.6</td>\n",
       "      <td>0.1</td>\n",
       "      <td>1.0</td>\n",
       "      <td>1</td>\n",
       "    </tr>\n",
       "    <tr>\n",
       "      <th>4</th>\n",
       "      <td>Matt Geiger</td>\n",
       "      <td>48</td>\n",
       "      <td>11.5</td>\n",
       "      <td>4.5</td>\n",
       "      <td>1.6</td>\n",
       "      <td>3.0</td>\n",
       "      <td>52.4</td>\n",
       "      <td>0.0</td>\n",
       "      <td>0.1</td>\n",
       "      <td>0.0</td>\n",
       "      <td>...</td>\n",
       "      <td>1.9</td>\n",
       "      <td>67.4</td>\n",
       "      <td>1.0</td>\n",
       "      <td>1.5</td>\n",
       "      <td>2.5</td>\n",
       "      <td>0.3</td>\n",
       "      <td>0.3</td>\n",
       "      <td>0.4</td>\n",
       "      <td>0.8</td>\n",
       "      <td>1</td>\n",
       "    </tr>\n",
       "  </tbody>\n",
       "</table>\n",
       "<p>5 rows × 21 columns</p>\n",
       "</div>"
      ],
      "text/plain": [
       "              Name  GP   MIN  PTS  FGM  FGA   FG%  3P Made  3PA   3P%  ...  \\\n",
       "0   Brandon Ingram  36  27.4  7.4  2.6  7.6  34.7      0.5  2.1  25.0  ...   \n",
       "1  Andrew Harrison  35  26.9  7.2  2.0  6.7  29.6      0.7  2.8  23.5  ...   \n",
       "2   JaKarr Sampson  74  15.3  5.2  2.0  4.7  42.2      0.4  1.7  24.4  ...   \n",
       "3      Malik Sealy  58  11.6  5.7  2.3  5.5  42.6      0.1  0.5  22.6  ...   \n",
       "4      Matt Geiger  48  11.5  4.5  1.6  3.0  52.4      0.0  0.1   0.0  ...   \n",
       "\n",
       "   FTA   FT%  OREB  DREB  REB  AST  STL  BLK  TOV  TARGET_5Yrs  \n",
       "0  2.3  69.9   0.7   3.4  4.1  1.9  0.4  0.4  1.3            0  \n",
       "1  3.4  76.5   0.5   2.0  2.4  3.7  1.1  0.5  1.6            0  \n",
       "2  1.3  67.0   0.5   1.7  2.2  1.0  0.5  0.3  1.0            0  \n",
       "3  1.3  68.9   1.0   0.9  1.9  0.8  0.6  0.1  1.0            1  \n",
       "4  1.9  67.4   1.0   1.5  2.5  0.3  0.3  0.4  0.8            1  \n",
       "\n",
       "[5 rows x 21 columns]"
      ]
     },
     "execution_count": 7,
     "metadata": {},
     "output_type": "execute_result"
    }
   ],
   "source": [
    "df.head()"
   ]
  },
  {
   "cell_type": "code",
   "execution_count": 8,
   "id": "8f2f6ff8",
   "metadata": {
    "execution": {
     "iopub.execute_input": "2021-07-22T07:41:41.891942Z",
     "iopub.status.busy": "2021-07-22T07:41:41.891260Z",
     "iopub.status.idle": "2021-07-22T07:41:41.895163Z",
     "shell.execute_reply": "2021-07-22T07:41:41.894545Z",
     "shell.execute_reply.started": "2021-07-21T10:12:32.549341Z"
    },
    "papermill": {
     "duration": 0.058338,
     "end_time": "2021-07-22T07:41:41.895305",
     "exception": false,
     "start_time": "2021-07-22T07:41:41.836967",
     "status": "completed"
    },
    "tags": []
   },
   "outputs": [
    {
     "name": "stdout",
     "output_type": "stream",
     "text": [
      "<class 'pandas.core.frame.DataFrame'>\n",
      "RangeIndex: 1340 entries, 0 to 1339\n",
      "Data columns (total 21 columns):\n",
      " #   Column       Non-Null Count  Dtype  \n",
      "---  ------       --------------  -----  \n",
      " 0   Name         1340 non-null   object \n",
      " 1   GP           1340 non-null   int64  \n",
      " 2   MIN          1340 non-null   float64\n",
      " 3   PTS          1340 non-null   float64\n",
      " 4   FGM          1340 non-null   float64\n",
      " 5   FGA          1340 non-null   float64\n",
      " 6   FG%          1340 non-null   float64\n",
      " 7   3P Made      1340 non-null   float64\n",
      " 8   3PA          1340 non-null   float64\n",
      " 9   3P%          1329 non-null   float64\n",
      " 10  FTM          1340 non-null   float64\n",
      " 11  FTA          1340 non-null   float64\n",
      " 12  FT%          1340 non-null   float64\n",
      " 13  OREB         1340 non-null   float64\n",
      " 14  DREB         1340 non-null   float64\n",
      " 15  REB          1340 non-null   float64\n",
      " 16  AST          1340 non-null   float64\n",
      " 17  STL          1340 non-null   float64\n",
      " 18  BLK          1340 non-null   float64\n",
      " 19  TOV          1340 non-null   float64\n",
      " 20  TARGET_5Yrs  1340 non-null   int64  \n",
      "dtypes: float64(18), int64(2), object(1)\n",
      "memory usage: 220.0+ KB\n"
     ]
    }
   ],
   "source": [
    "df.info()"
   ]
  },
  {
   "cell_type": "code",
   "execution_count": 11,
   "id": "9118de61",
   "metadata": {
    "execution": {
     "iopub.execute_input": "2021-07-22T07:41:42.117288Z",
     "iopub.status.busy": "2021-07-22T07:41:42.116564Z",
     "iopub.status.idle": "2021-07-22T07:41:42.119077Z",
     "shell.execute_reply": "2021-07-22T07:41:42.118444Z",
     "shell.execute_reply.started": "2021-07-21T10:12:32.986948Z"
    },
    "papermill": {
     "duration": 0.040031,
     "end_time": "2021-07-22T07:41:42.119237",
     "exception": false,
     "start_time": "2021-07-22T07:41:42.079206",
     "status": "completed"
    },
    "tags": []
   },
   "outputs": [],
   "source": [
    "from matplotlib import pyplot as plt"
   ]
  },
  {
   "cell_type": "code",
   "execution_count": 12,
   "id": "47d2dfe1",
   "metadata": {
    "execution": {
     "iopub.execute_input": "2021-07-22T07:41:42.206443Z",
     "iopub.status.busy": "2021-07-22T07:41:42.205669Z",
     "iopub.status.idle": "2021-07-22T07:41:42.410020Z",
     "shell.execute_reply": "2021-07-22T07:41:42.409450Z",
     "shell.execute_reply.started": "2021-07-21T10:12:33.195879Z"
    },
    "papermill": {
     "duration": 0.2575,
     "end_time": "2021-07-22T07:41:42.410189",
     "exception": false,
     "start_time": "2021-07-22T07:41:42.152689",
     "status": "completed"
    },
    "tags": []
   },
   "outputs": [
    {
     "data": {
      "text/plain": [
       "<matplotlib.collections.PathCollection at 0x2004071b310>"
      ]
     },
     "execution_count": 12,
     "metadata": {},
     "output_type": "execute_result"
    },
    {
     "data": {
      "image/png": "[encoded data removed]",
      "text/plain": [
       "<Figure size 640x480 with 1 Axes>"
      ]
     },
     "metadata": {},
     "output_type": "display_data"
    }
   ],
   "source": [
    "plt.scatter(x = 'MIN', y = 'PTS', data = df )"
   ]
  },
  {
   "cell_type": "code",
   "execution_count": 13,
   "id": "00520883",
   "metadata": {
    "execution": {
     "iopub.execute_input": "2021-07-22T07:41:42.531429Z",
     "iopub.status.busy": "2021-07-22T07:41:42.530378Z",
     "iopub.status.idle": "2021-07-22T07:41:42.679696Z",
     "shell.execute_reply": "2021-07-22T07:41:42.680186Z",
     "shell.execute_reply.started": "2021-07-21T10:12:33.389941Z"
    },
    "papermill": {
     "duration": 0.220737,
     "end_time": "2021-07-22T07:41:42.680372",
     "exception": false,
     "start_time": "2021-07-22T07:41:42.459635",
     "status": "completed"
    },
    "tags": []
   },
   "outputs": [
    {
     "data": {
      "text/plain": [
       "<matplotlib.collections.PathCollection at 0x20042dd64d0>"
      ]
     },
     "execution_count": 13,
     "metadata": {},
     "output_type": "execute_result"
    },
    {
     "data": {
      "image/png": "[encoded data removed]",
      "text/plain": [
       "<Figure size 640x480 with 1 Axes>"
      ]
     },
     "metadata": {},
     "output_type": "display_data"
    }
   ],
   "source": [
    "plt.scatter(x = 'FGM', y = 'PTS', data = df)"
   ]
  },
  {
   "cell_type": "code",
   "execution_count": 14,
   "id": "48c6c877",
   "metadata": {
    "execution": {
     "iopub.execute_input": "2021-07-22T07:41:42.755915Z",
     "iopub.status.busy": "2021-07-22T07:41:42.755224Z",
     "iopub.status.idle": "2021-07-22T07:41:42.914301Z",
     "shell.execute_reply": "2021-07-22T07:41:42.914775Z",
     "shell.execute_reply.started": "2021-07-21T10:12:33.560619Z"
    },
    "papermill": {
     "duration": 0.198425,
     "end_time": "2021-07-22T07:41:42.914957",
     "exception": false,
     "start_time": "2021-07-22T07:41:42.716532",
     "status": "completed"
    },
    "tags": []
   },
   "outputs": [
    {
     "data": {
      "text/plain": [
       "<matplotlib.collections.PathCollection at 0x20042553c10>"
      ]
     },
     "execution_count": 14,
     "metadata": {},
     "output_type": "execute_result"
    },
    {
     "data": {
      "image/png": "[encoded data removed]",
      "text/plain": [
       "<Figure size 640x480 with 1 Axes>"
      ]
     },
     "metadata": {},
     "output_type": "display_data"
    }
   ],
   "source": [
    "plt.scatter(x = 'FG%', y = 'PTS', data = df)"
   ]
  },
  {
   "cell_type": "code",
   "execution_count": 15,
   "id": "b266f8f8",
   "metadata": {
    "execution": {
     "iopub.execute_input": "2021-07-22T07:41:42.991727Z",
     "iopub.status.busy": "2021-07-22T07:41:42.991066Z",
     "iopub.status.idle": "2021-07-22T07:41:43.150762Z",
     "shell.execute_reply": "2021-07-22T07:41:43.151255Z",
     "shell.execute_reply.started": "2021-07-21T10:12:33.725244Z"
    },
    "papermill": {
     "duration": 0.199731,
     "end_time": "2021-07-22T07:41:43.151456",
     "exception": false,
     "start_time": "2021-07-22T07:41:42.951725",
     "status": "completed"
    },
    "tags": []
   },
   "outputs": [
    {
     "data": {
      "text/plain": [
       "<matplotlib.collections.PathCollection at 0x200425cfd60>"
      ]
     },
     "execution_count": 15,
     "metadata": {},
     "output_type": "execute_result"
    },
    {
     "data": {
      "image/png": "[encoded data removed]",
      "text/plain": [
       "<Figure size 640x480 with 1 Axes>"
      ]
     },
     "metadata": {},
     "output_type": "display_data"
    }
   ],
   "source": [
    "plt.scatter(x = '3P Made', y = 'PTS', data = df)"
   ]
  },
  {
   "cell_type": "code",
   "execution_count": 16,
   "id": "2503926a",
   "metadata": {
    "execution": {
     "iopub.execute_input": "2021-07-22T07:41:43.230675Z",
     "iopub.status.busy": "2021-07-22T07:41:43.229975Z",
     "iopub.status.idle": "2021-07-22T07:41:43.393650Z",
     "shell.execute_reply": "2021-07-22T07:41:43.394116Z",
     "shell.execute_reply.started": "2021-07-21T10:12:33.891064Z"
    },
    "papermill": {
     "duration": 0.204843,
     "end_time": "2021-07-22T07:41:43.394293",
     "exception": false,
     "start_time": "2021-07-22T07:41:43.189450",
     "status": "completed"
    },
    "tags": []
   },
   "outputs": [
    {
     "data": {
      "text/plain": [
       "<matplotlib.collections.PathCollection at 0x200425aadd0>"
      ]
     },
     "execution_count": 16,
     "metadata": {},
     "output_type": "execute_result"
    },
    {
     "data": {
      "image/png": "[encoded data removed]",
      "text/plain": [
       "<Figure size 640x480 with 1 Axes>"
      ]
     },
     "metadata": {},
     "output_type": "display_data"
    }
   ],
   "source": [
    "plt.scatter(x = '3P%', y = 'PTS', data = df)"
   ]
  },
  {
   "cell_type": "code",
   "execution_count": 17,
   "id": "8116f080",
   "metadata": {
    "execution": {
     "iopub.execute_input": "2021-07-22T07:41:43.476685Z",
     "iopub.status.busy": "2021-07-22T07:41:43.475905Z",
     "iopub.status.idle": "2021-07-22T07:41:43.653977Z",
     "shell.execute_reply": "2021-07-22T07:41:43.654504Z",
     "shell.execute_reply.started": "2021-07-21T10:12:34.060655Z"
    },
    "papermill": {
     "duration": 0.220743,
     "end_time": "2021-07-22T07:41:43.654697",
     "exception": false,
     "start_time": "2021-07-22T07:41:43.433954",
     "status": "completed"
    },
    "tags": []
   },
   "outputs": [
    {
     "data": {
      "text/plain": [
       "<matplotlib.collections.PathCollection at 0x20042eb5990>"
      ]
     },
     "execution_count": 17,
     "metadata": {},
     "output_type": "execute_result"
    },
    {
     "data": {
      "image/png": "[encoded data removed]",
      "text/plain": [
       "<Figure size 640x480 with 1 Axes>"
      ]
     },
     "metadata": {},
     "output_type": "display_data"
    }
   ],
   "source": [
    "plt.scatter(x = 'FTM', y = 'PTS', data = df)"
   ]
  },
  {
   "cell_type": "code",
   "execution_count": 18,
   "id": "ba44e1b8",
   "metadata": {
    "execution": {
     "iopub.execute_input": "2021-07-22T07:41:43.738702Z",
     "iopub.status.busy": "2021-07-22T07:41:43.737946Z",
     "iopub.status.idle": "2021-07-22T07:41:43.902758Z",
     "shell.execute_reply": "2021-07-22T07:41:43.903257Z",
     "shell.execute_reply.started": "2021-07-21T10:12:34.370929Z"
    },
    "papermill": {
     "duration": 0.20831,
     "end_time": "2021-07-22T07:41:43.903442",
     "exception": false,
     "start_time": "2021-07-22T07:41:43.695132",
     "status": "completed"
    },
    "tags": []
   },
   "outputs": [
    {
     "data": {
      "text/plain": [
       "<matplotlib.collections.PathCollection at 0x20042e84c40>"
      ]
     },
     "execution_count": 18,
     "metadata": {},
     "output_type": "execute_result"
    },
    {
     "data": {
      "image/png": "[encoded data removed]",
      "text/plain": [
       "<Figure size 640x480 with 1 Axes>"
      ]
     },
     "metadata": {},
     "output_type": "display_data"
    }
   ],
   "source": [
    "plt.scatter(x = 'FT%', y = 'PTS', data = df)"
   ]
  },
  {
   "cell_type": "code",
   "execution_count": 19,
   "id": "c947e860",
   "metadata": {
    "execution": {
     "iopub.execute_input": "2021-07-22T07:41:44.174502Z",
     "iopub.status.busy": "2021-07-22T07:41:44.173805Z",
     "iopub.status.idle": "2021-07-22T07:41:45.268848Z",
     "shell.execute_reply": "2021-07-22T07:41:45.268220Z",
     "shell.execute_reply.started": "2021-07-21T10:12:34.751422Z"
    },
    "papermill": {
     "duration": 1.140654,
     "end_time": "2021-07-22T07:41:45.269003",
     "exception": false,
     "start_time": "2021-07-22T07:41:44.128349",
     "status": "completed"
    },
    "tags": []
   },
   "outputs": [],
   "source": [
    "from sklearn import linear_model"
   ]
  },
  {
   "cell_type": "code",
   "execution_count": 20,
   "id": "1c14a470",
   "metadata": {
    "execution": {
     "iopub.execute_input": "2021-07-22T07:41:45.481133Z",
     "iopub.status.busy": "2021-07-22T07:41:45.360294Z",
     "iopub.status.idle": "2021-07-22T07:41:45.565125Z",
     "shell.execute_reply": "2021-07-22T07:41:45.565660Z",
     "shell.execute_reply.started": "2021-07-21T10:12:34.984556Z"
    },
    "papermill": {
     "duration": 0.255176,
     "end_time": "2021-07-22T07:41:45.565849",
     "exception": false,
     "start_time": "2021-07-22T07:41:45.310673",
     "status": "completed"
    },
    "tags": []
   },
   "outputs": [
    {
     "data": {
      "text/html": [
       "<style>#sk-container-id-1 {color: black;background-color: white;}#sk-container-id-1 pre{padding: 0;}#sk-container-id-1 div.sk-toggleable {background-color: white;}#sk-container-id-1 label.sk-toggleable__label {cursor: pointer;display: block;width: 100%;margin-bottom: 0;padding: 0.3em;box-sizing: border-box;text-align: center;}#sk-container-id-1 label.sk-toggleable__label-arrow:before {content: \"▸\";float: left;margin-right: 0.25em;color: #696969;}#sk-container-id-1 label.sk-toggleable__label-arrow:hover:before {color: black;}#sk-container-id-1 div.sk-estimator:hover label.sk-toggleable__label-arrow:before {color: black;}#sk-container-id-1 div.sk-toggleable__content {max-height: 0;max-width: 0;overflow: hidden;text-align: left;background-color: #f0f8ff;}#sk-container-id-1 div.sk-toggleable__content pre {margin: 0.2em;color: black;border-radius: 0.25em;background-color: #f0f8ff;}#sk-container-id-1 input.sk-toggleable__control:checked~div.sk-toggleable__content {max-height: 200px;max-width: 100%;overflow: auto;}#sk-container-id-1 input.sk-toggleable__control:checked~label.sk-toggleable__label-arrow:before {content: \"▾\";}#sk-container-id-1 div.sk-estimator input.sk-toggleable__control:checked~label.sk-toggleable__label {background-color: #d4ebff;}#sk-container-id-1 div.sk-label input.sk-toggleable__control:checked~label.sk-toggleable__label {background-color: #d4ebff;}#sk-container-id-1 input.sk-hidden--visually {border: 0;clip: rect(1px 1px 1px 1px);clip: rect(1px, 1px, 1px, 1px);height: 1px;margin: -1px;overflow: hidden;padding: 0;position: absolute;width: 1px;}#sk-container-id-1 div.sk-estimator {font-family: monospace;background-color: #f0f8ff;border: 1px dotted black;border-radius: 0.25em;box-sizing: border-box;margin-bottom: 0.5em;}#sk-container-id-1 div.sk-estimator:hover {background-color: #d4ebff;}#sk-container-id-1 div.sk-parallel-item::after {content: \"\";width: 100%;border-bottom: 1px solid gray;flex-grow: 1;}#sk-container-id-1 div.sk-label:hover label.sk-toggleable__label {background-color: #d4ebff;}#sk-container-id-1 div.sk-serial::before {content: \"\";position: absolute;border-left: 1px solid gray;box-sizing: border-box;top: 0;bottom: 0;left: 50%;z-index: 0;}#sk-container-id-1 div.sk-serial {display: flex;flex-direction: column;align-items: center;background-color: white;padding-right: 0.2em;padding-left: 0.2em;position: relative;}#sk-container-id-1 div.sk-item {position: relative;z-index: 1;}#sk-container-id-1 div.sk-parallel {display: flex;align-items: stretch;justify-content: center;background-color: white;position: relative;}#sk-container-id-1 div.sk-item::before, #sk-container-id-1 div.sk-parallel-item::before {content: \"\";position: absolute;border-left: 1px solid gray;box-sizing: border-box;top: 0;bottom: 0;left: 50%;z-index: -1;}#sk-container-id-1 div.sk-parallel-item {display: flex;flex-direction: column;z-index: 1;position: relative;background-color: white;}#sk-container-id-1 div.sk-parallel-item:first-child::after {align-self: flex-end;width: 50%;}#sk-container-id-1 div.sk-parallel-item:last-child::after {align-self: flex-start;width: 50%;}#sk-container-id-1 div.sk-parallel-item:only-child::after {width: 0;}#sk-container-id-1 div.sk-dashed-wrapped {border: 1px dashed gray;margin: 0 0.4em 0.5em 0.4em;box-sizing: border-box;padding-bottom: 0.4em;background-color: white;}#sk-container-id-1 div.sk-label label {font-family: monospace;font-weight: bold;display: inline-block;line-height: 1.2em;}#sk-container-id-1 div.sk-label-container {text-align: center;}#sk-container-id-1 div.sk-container {/* jupyter's `normalize.less` sets `[hidden] { display: none; }` but bootstrap.min.css set `[hidden] { display: none !important; }` so we also need the `!important` here to be able to override the default hidden behavior on the sphinx rendered scikit-learn.org. See: https://github.com/scikit-learn/scikit-learn/issues/21755 */display: inline-block !important;position: relative;}#sk-container-id-1 div.sk-text-repr-fallback {display: none;}</style><div id=\"sk-container-id-1\" class=\"sk-top-container\"><div class=\"sk-text-repr-fallback\"><pre>LinearRegression()</pre><b>In a Jupyter environment, please rerun this cell to show the HTML representation or trust the notebook. <br />On GitHub, the HTML representation is unable to render, please try loading this page with nbviewer.org.</b></div><div class=\"sk-container\" hidden><div class=\"sk-item\"><div class=\"sk-estimator sk-toggleable\"><input class=\"sk-toggleable__control sk-hidden--visually\" id=\"sk-estimator-id-1\" type=\"checkbox\" checked><label for=\"sk-estimator-id-1\" class=\"sk-toggleable__label sk-toggleable__label-arrow\">LinearRegression</label><div class=\"sk-toggleable__content\"><pre>LinearRegression()</pre></div></div></div></div></div>"
      ],
      "text/plain": [
       "LinearRegression()"
      ]
     },
     "execution_count": 20,
     "metadata": {},
     "output_type": "execute_result"
    }
   ],
   "source": [
    "points = linear_model.LinearRegression()\n",
    "points.fit(df[['FGM','FTM','3P Made']], df.PTS)"
   ]
  },
  {
   "cell_type": "code",
   "execution_count": 21,
   "id": "912ddd38",
   "metadata": {
    "execution": {
     "iopub.execute_input": "2021-07-22T07:41:45.655310Z",
     "iopub.status.busy": "2021-07-22T07:41:45.654272Z",
     "iopub.status.idle": "2021-07-22T07:41:45.660441Z",
     "shell.execute_reply": "2021-07-22T07:41:45.660972Z",
     "shell.execute_reply.started": "2021-07-21T10:12:35.204633Z"
    },
    "papermill": {
     "duration": 0.053491,
     "end_time": "2021-07-22T07:41:45.661167",
     "exception": false,
     "start_time": "2021-07-22T07:41:45.607676",
     "status": "completed"
    },
    "tags": []
   },
   "outputs": [
    {
     "name": "stdout",
     "output_type": "stream",
     "text": [
      "-0.005073502103044802\n"
     ]
    }
   ],
   "source": [
    "print(points.intercept_)"
   ]
  },
  {
   "cell_type": "code",
   "execution_count": 22,
   "id": "7f94668d",
   "metadata": {
    "execution": {
     "iopub.execute_input": "2021-07-22T07:41:45.751321Z",
     "iopub.status.busy": "2021-07-22T07:41:45.750480Z",
     "iopub.status.idle": "2021-07-22T07:41:45.753983Z",
     "shell.execute_reply": "2021-07-22T07:41:45.754453Z",
     "shell.execute_reply.started": "2021-07-21T10:12:35.440694Z"
    },
    "papermill": {
     "duration": 0.05147,
     "end_time": "2021-07-22T07:41:45.754633",
     "exception": false,
     "start_time": "2021-07-22T07:41:45.703163",
     "status": "completed"
    },
    "tags": []
   },
   "outputs": [
    {
     "name": "stdout",
     "output_type": "stream",
     "text": [
      "[2.00225446 0.9995815  0.99060804]\n"
     ]
    }
   ],
   "source": [
    "print(points.coef_)"
   ]
  },
  {
   "cell_type": "code",
   "execution_count": 23,
   "id": "025e5aac",
   "metadata": {
    "execution": {
     "iopub.execute_input": "2021-07-22T07:41:45.936411Z",
     "iopub.status.busy": "2021-07-22T07:41:45.935690Z",
     "iopub.status.idle": "2021-07-22T07:41:45.954313Z",
     "shell.execute_reply": "2021-07-22T07:41:45.954788Z",
     "shell.execute_reply.started": "2021-07-21T10:12:35.704637Z"
    },
    "papermill": {
     "duration": 0.065627,
     "end_time": "2021-07-22T07:41:45.954993",
     "exception": false,
     "start_time": "2021-07-22T07:41:45.889366",
     "status": "completed"
    },
    "tags": []
   },
   "outputs": [],
   "source": [
    "df['3P Made'] = 3*df['3P Made']"
   ]
  },
  {
   "cell_type": "code",
   "execution_count": 24,
   "id": "2268460d",
   "metadata": {
    "execution": {
     "iopub.execute_input": "2021-07-22T07:41:46.072255Z",
     "iopub.status.busy": "2021-07-22T07:41:46.070912Z",
     "iopub.status.idle": "2021-07-22T07:41:46.075648Z",
     "shell.execute_reply": "2021-07-22T07:41:46.076134Z",
     "shell.execute_reply.started": "2021-07-21T10:12:36.071288Z"
    },
    "papermill": {
     "duration": 0.079194,
     "end_time": "2021-07-22T07:41:46.076323",
     "exception": false,
     "start_time": "2021-07-22T07:41:45.997129",
     "status": "completed"
    },
    "tags": []
   },
   "outputs": [
    {
     "data": {
      "text/html": [
       "<div>\n",
       "<style scoped>\n",
       "    .dataframe tbody tr th:only-of-type {\n",
       "        vertical-align: middle;\n",
       "    }\n",
       "\n",
       "    .dataframe tbody tr th {\n",
       "        vertical-align: top;\n",
       "    }\n",
       "\n",
       "    .dataframe thead th {\n",
       "        text-align: right;\n",
       "    }\n",
       "</style>\n",
       "<table border=\"1\" class=\"dataframe\">\n",
       "  <thead>\n",
       "    <tr style=\"text-align: right;\">\n",
       "      <th></th>\n",
       "      <th>Name</th>\n",
       "      <th>GP</th>\n",
       "      <th>MIN</th>\n",
       "      <th>PTS</th>\n",
       "      <th>FGM</th>\n",
       "      <th>FGA</th>\n",
       "      <th>FG%</th>\n",
       "      <th>3P Made</th>\n",
       "      <th>3PA</th>\n",
       "      <th>3P%</th>\n",
       "      <th>...</th>\n",
       "      <th>FTA</th>\n",
       "      <th>FT%</th>\n",
       "      <th>OREB</th>\n",
       "      <th>DREB</th>\n",
       "      <th>REB</th>\n",
       "      <th>AST</th>\n",
       "      <th>STL</th>\n",
       "      <th>BLK</th>\n",
       "      <th>TOV</th>\n",
       "      <th>TARGET_5Yrs</th>\n",
       "    </tr>\n",
       "  </thead>\n",
       "  <tbody>\n",
       "    <tr>\n",
       "      <th>0</th>\n",
       "      <td>Brandon Ingram</td>\n",
       "      <td>36</td>\n",
       "      <td>27.4</td>\n",
       "      <td>7.4</td>\n",
       "      <td>2.6</td>\n",
       "      <td>7.6</td>\n",
       "      <td>34.7</td>\n",
       "      <td>1.5</td>\n",
       "      <td>2.1</td>\n",
       "      <td>25.0</td>\n",
       "      <td>...</td>\n",
       "      <td>2.3</td>\n",
       "      <td>69.9</td>\n",
       "      <td>0.7</td>\n",
       "      <td>3.4</td>\n",
       "      <td>4.1</td>\n",
       "      <td>1.9</td>\n",
       "      <td>0.4</td>\n",
       "      <td>0.4</td>\n",
       "      <td>1.3</td>\n",
       "      <td>0</td>\n",
       "    </tr>\n",
       "    <tr>\n",
       "      <th>1</th>\n",
       "      <td>Andrew Harrison</td>\n",
       "      <td>35</td>\n",
       "      <td>26.9</td>\n",
       "      <td>7.2</td>\n",
       "      <td>2.0</td>\n",
       "      <td>6.7</td>\n",
       "      <td>29.6</td>\n",
       "      <td>2.1</td>\n",
       "      <td>2.8</td>\n",
       "      <td>23.5</td>\n",
       "      <td>...</td>\n",
       "      <td>3.4</td>\n",
       "      <td>76.5</td>\n",
       "      <td>0.5</td>\n",
       "      <td>2.0</td>\n",
       "      <td>2.4</td>\n",
       "      <td>3.7</td>\n",
       "      <td>1.1</td>\n",
       "      <td>0.5</td>\n",
       "      <td>1.6</td>\n",
       "      <td>0</td>\n",
       "    </tr>\n",
       "    <tr>\n",
       "      <th>2</th>\n",
       "      <td>JaKarr Sampson</td>\n",
       "      <td>74</td>\n",
       "      <td>15.3</td>\n",
       "      <td>5.2</td>\n",
       "      <td>2.0</td>\n",
       "      <td>4.7</td>\n",
       "      <td>42.2</td>\n",
       "      <td>1.2</td>\n",
       "      <td>1.7</td>\n",
       "      <td>24.4</td>\n",
       "      <td>...</td>\n",
       "      <td>1.3</td>\n",
       "      <td>67.0</td>\n",
       "      <td>0.5</td>\n",
       "      <td>1.7</td>\n",
       "      <td>2.2</td>\n",
       "      <td>1.0</td>\n",
       "      <td>0.5</td>\n",
       "      <td>0.3</td>\n",
       "      <td>1.0</td>\n",
       "      <td>0</td>\n",
       "    </tr>\n",
       "    <tr>\n",
       "      <th>3</th>\n",
       "      <td>Malik Sealy</td>\n",
       "      <td>58</td>\n",
       "      <td>11.6</td>\n",
       "      <td>5.7</td>\n",
       "      <td>2.3</td>\n",
       "      <td>5.5</td>\n",
       "      <td>42.6</td>\n",
       "      <td>0.3</td>\n",
       "      <td>0.5</td>\n",
       "      <td>22.6</td>\n",
       "      <td>...</td>\n",
       "      <td>1.3</td>\n",
       "      <td>68.9</td>\n",
       "      <td>1.0</td>\n",
       "      <td>0.9</td>\n",
       "      <td>1.9</td>\n",
       "      <td>0.8</td>\n",
       "      <td>0.6</td>\n",
       "      <td>0.1</td>\n",
       "      <td>1.0</td>\n",
       "      <td>1</td>\n",
       "    </tr>\n",
       "    <tr>\n",
       "      <th>4</th>\n",
       "      <td>Matt Geiger</td>\n",
       "      <td>48</td>\n",
       "      <td>11.5</td>\n",
       "      <td>4.5</td>\n",
       "      <td>1.6</td>\n",
       "      <td>3.0</td>\n",
       "      <td>52.4</td>\n",
       "      <td>0.0</td>\n",
       "      <td>0.1</td>\n",
       "      <td>0.0</td>\n",
       "      <td>...</td>\n",
       "      <td>1.9</td>\n",
       "      <td>67.4</td>\n",
       "      <td>1.0</td>\n",
       "      <td>1.5</td>\n",
       "      <td>2.5</td>\n",
       "      <td>0.3</td>\n",
       "      <td>0.3</td>\n",
       "      <td>0.4</td>\n",
       "      <td>0.8</td>\n",
       "      <td>1</td>\n",
       "    </tr>\n",
       "  </tbody>\n",
       "</table>\n",
       "<p>5 rows × 21 columns</p>\n",
       "</div>"
      ],
      "text/plain": [
       "              Name  GP   MIN  PTS  FGM  FGA   FG%  3P Made  3PA   3P%  ...  \\\n",
       "0   Brandon Ingram  36  27.4  7.4  2.6  7.6  34.7      1.5  2.1  25.0  ...   \n",
       "1  Andrew Harrison  35  26.9  7.2  2.0  6.7  29.6      2.1  2.8  23.5  ...   \n",
       "2   JaKarr Sampson  74  15.3  5.2  2.0  4.7  42.2      1.2  1.7  24.4  ...   \n",
       "3      Malik Sealy  58  11.6  5.7  2.3  5.5  42.6      0.3  0.5  22.6  ...   \n",
       "4      Matt Geiger  48  11.5  4.5  1.6  3.0  52.4      0.0  0.1   0.0  ...   \n",
       "\n",
       "   FTA   FT%  OREB  DREB  REB  AST  STL  BLK  TOV  TARGET_5Yrs  \n",
       "0  2.3  69.9   0.7   3.4  4.1  1.9  0.4  0.4  1.3            0  \n",
       "1  3.4  76.5   0.5   2.0  2.4  3.7  1.1  0.5  1.6            0  \n",
       "2  1.3  67.0   0.5   1.7  2.2  1.0  0.5  0.3  1.0            0  \n",
       "3  1.3  68.9   1.0   0.9  1.9  0.8  0.6  0.1  1.0            1  \n",
       "4  1.9  67.4   1.0   1.5  2.5  0.3  0.3  0.4  0.8            1  \n",
       "\n",
       "[5 rows x 21 columns]"
      ]
     },
     "execution_count": 24,
     "metadata": {},
     "output_type": "execute_result"
    }
   ],
   "source": [
    "df.head()"
   ]
  },
  {
   "cell_type": "code",
   "execution_count": 25,
   "id": "cb4e3676",
   "metadata": {
    "execution": {
     "iopub.execute_input": "2021-07-22T07:41:46.165067Z",
     "iopub.status.busy": "2021-07-22T07:41:46.164392Z",
     "iopub.status.idle": "2021-07-22T07:41:46.171048Z",
     "shell.execute_reply": "2021-07-22T07:41:46.170447Z",
     "shell.execute_reply.started": "2021-07-21T10:12:36.234816Z"
    },
    "papermill": {
     "duration": 0.052065,
     "end_time": "2021-07-22T07:41:46.171226",
     "exception": false,
     "start_time": "2021-07-22T07:41:46.119161",
     "status": "completed"
    },
    "tags": []
   },
   "outputs": [],
   "source": [
    "newpoints = linear_model.LinearRegression()\n",
    "newpoints.fit = (df[['FGM','FTM','3P Made']],df.PTS)"
   ]
  },
  {
   "cell_type": "code",
   "execution_count": 26,
   "id": "4399d31b",
   "metadata": {
    "execution": {
     "iopub.execute_input": "2021-07-22T07:41:46.356742Z",
     "iopub.status.busy": "2021-07-22T07:41:46.355972Z",
     "iopub.status.idle": "2021-07-22T07:41:46.359614Z",
     "shell.execute_reply": "2021-07-22T07:41:46.359051Z",
     "shell.execute_reply.started": "2021-07-21T10:14:25.230894Z"
    },
    "papermill": {
     "duration": 0.052613,
     "end_time": "2021-07-22T07:41:46.359780",
     "exception": false,
     "start_time": "2021-07-22T07:41:46.307167",
     "status": "completed"
    },
    "tags": []
   },
   "outputs": [],
   "source": [
    "X = df[['FGM','FTM','3P Made']]\n",
    "y = df['PTS']"
   ]
  },
  {
   "cell_type": "code",
   "execution_count": 27,
   "id": "a5d38dc0",
   "metadata": {
    "execution": {
     "iopub.execute_input": "2021-07-22T07:41:46.452197Z",
     "iopub.status.busy": "2021-07-22T07:41:46.450074Z",
     "iopub.status.idle": "2021-07-22T07:41:46.456034Z",
     "shell.execute_reply": "2021-07-22T07:41:46.455411Z",
     "shell.execute_reply.started": "2021-07-21T10:14:25.240741Z"
    },
    "papermill": {
     "duration": 0.053395,
     "end_time": "2021-07-22T07:41:46.456188",
     "exception": false,
     "start_time": "2021-07-22T07:41:46.402793",
     "status": "completed"
    },
    "tags": []
   },
   "outputs": [],
   "source": [
    "from sklearn.model_selection import train_test_split\n",
    "\n",
    "X_train, X_test, y_train, y_test = train_test_split(X, y)"
   ]
  },
  {
   "cell_type": "code",
   "execution_count": 28,
   "id": "b76b47b2",
   "metadata": {
    "execution": {
     "iopub.execute_input": "2021-07-22T07:41:46.553141Z",
     "iopub.status.busy": "2021-07-22T07:41:46.552441Z",
     "iopub.status.idle": "2021-07-22T07:41:46.555904Z",
     "shell.execute_reply": "2021-07-22T07:41:46.555372Z",
     "shell.execute_reply.started": "2021-07-21T10:14:26.028879Z"
    },
    "papermill": {
     "duration": 0.057304,
     "end_time": "2021-07-22T07:41:46.556051",
     "exception": false,
     "start_time": "2021-07-22T07:41:46.498747",
     "status": "completed"
    },
    "tags": []
   },
   "outputs": [],
   "source": [
    "from sklearn import metrics\n",
    "from sklearn.model_selection import cross_val_score\n",
    "\n",
    "def cross_val(model):\n",
    "    pred = cross_val_score(model, X, y, cv=10)\n",
    "    return pred.mean()\n",
    "\n",
    "def print_evaluate(true, predicted):  \n",
    "    mae = metrics.mean_absolute_error(true, predicted)\n",
    "    mse = metrics.mean_squared_error(true, predicted)\n",
    "    rmse = np.sqrt(metrics.mean_squared_error(true, predicted))\n",
    "    r2_square = metrics.r2_score(true, predicted)\n",
    "    print('MAE:', mae)\n",
    "    print('MSE:', mse)\n",
    "    print('RMSE:', rmse)\n",
    "    print('R2 Square', r2_square)\n",
    "    print('__________________________________')\n",
    "    \n",
    "def evaluate(true, predicted):\n",
    "    mae = metrics.mean_absolute_error(true, predicted)\n",
    "    mse = metrics.mean_squared_error(true, predicted)\n",
    "    rmse = np.sqrt(metrics.mean_squared_error(true, predicted))\n",
    "    r2_square = metrics.r2_score(true, predicted)\n",
    "    return mae, mse, rmse, r2_square"
   ]
  },
  {
   "cell_type": "code",
   "execution_count": 29,
   "id": "66cc4135",
   "metadata": {
    "execution": {
     "iopub.execute_input": "2021-07-22T07:41:46.741930Z",
     "iopub.status.busy": "2021-07-22T07:41:46.741236Z",
     "iopub.status.idle": "2021-07-22T07:41:46.743388Z",
     "shell.execute_reply": "2021-07-22T07:41:46.743879Z",
     "shell.execute_reply.started": "2021-07-21T10:14:27.268593Z"
    },
    "papermill": {
     "duration": 0.051845,
     "end_time": "2021-07-22T07:41:46.744066",
     "exception": false,
     "start_time": "2021-07-22T07:41:46.692221",
     "status": "completed"
    },
    "tags": []
   },
   "outputs": [],
   "source": [
    "pred = points.predict(X_test)"
   ]
  },
  {
   "cell_type": "code",
   "execution_count": 30,
   "id": "22330c4c",
   "metadata": {
    "execution": {
     "iopub.execute_input": "2021-07-22T07:41:46.834426Z",
     "iopub.status.busy": "2021-07-22T07:41:46.833761Z",
     "iopub.status.idle": "2021-07-22T07:41:47.109410Z",
     "shell.execute_reply": "2021-07-22T07:41:47.109901Z",
     "shell.execute_reply.started": "2021-07-21T10:14:28.168631Z"
    },
    "papermill": {
     "duration": 0.322558,
     "end_time": "2021-07-22T07:41:47.110105",
     "exception": false,
     "start_time": "2021-07-22T07:41:46.787547",
     "status": "completed"
    },
    "tags": []
   },
   "outputs": [
    {
     "data": {
      "text/plain": [
       "<matplotlib.collections.PathCollection at 0x20045c98b20>"
      ]
     },
     "execution_count": 30,
     "metadata": {},
     "output_type": "execute_result"
    },
    {
     "data": {
      "image/png": "[encoded data removed]",
      "text/plain": [
       "<Figure size 640x480 with 1 Axes>"
      ]
     },
     "metadata": {},
     "output_type": "display_data"
    }
   ],
   "source": [
    "plt.scatter(y_test, pred)"
   ]
  },
  {
   "cell_type": "code",
   "execution_count": 31,
   "id": "22f60cee",
   "metadata": {
    "execution": {
     "iopub.execute_input": "2021-07-22T07:41:47.201725Z",
     "iopub.status.busy": "2021-07-22T07:41:47.201041Z",
     "iopub.status.idle": "2021-07-22T07:41:47.352628Z",
     "shell.execute_reply": "2021-07-22T07:41:47.351912Z",
     "shell.execute_reply.started": "2021-07-21T10:14:29.189369Z"
    },
    "papermill": {
     "duration": 0.198422,
     "end_time": "2021-07-22T07:41:47.352772",
     "exception": false,
     "start_time": "2021-07-22T07:41:47.154350",
     "status": "completed"
    },
    "tags": []
   },
   "outputs": [],
   "source": [
    "import seaborn as sns"
   ]
  },
  {
   "cell_type": "code",
   "execution_count": 32,
   "id": "82915b33",
   "metadata": {
    "execution": {
     "iopub.execute_input": "2021-07-22T07:41:47.473843Z",
     "iopub.status.busy": "2021-07-22T07:41:47.457102Z",
     "iopub.status.idle": "2021-07-22T07:41:47.847261Z",
     "shell.execute_reply": "2021-07-22T07:41:47.846686Z",
     "shell.execute_reply.started": "2021-07-21T10:14:29.929145Z"
    },
    "papermill": {
     "duration": 0.450723,
     "end_time": "2021-07-22T07:41:47.847416",
     "exception": false,
     "start_time": "2021-07-22T07:41:47.396693",
     "status": "completed"
    },
    "tags": []
   },
   "outputs": [
    {
     "data": {
      "image/png": "[encoded data removed]",
      "text/plain": [
       "<Figure size 500x500 with 1 Axes>"
      ]
     },
     "metadata": {},
     "output_type": "display_data"
    }
   ],
   "source": [
    "sns.displot((y_test - pred), bins=50);"
   ]
  },
  {
   "cell_type": "code",
   "execution_count": 34,
   "id": "85c20891",
   "metadata": {
    "execution": {
     "iopub.execute_input": "2021-07-22T07:41:47.949386Z",
     "iopub.status.busy": "2021-07-22T07:41:47.948686Z",
     "iopub.status.idle": "2021-07-22T07:41:47.956371Z",
     "shell.execute_reply": "2021-07-22T07:41:47.955786Z",
     "shell.execute_reply.started": "2021-07-21T10:14:30.600822Z"
    },
    "papermill": {
     "duration": 0.064232,
     "end_time": "2021-07-22T07:41:47.956518",
     "exception": false,
     "start_time": "2021-07-22T07:41:47.892286",
     "status": "completed"
    },
    "tags": []
   },
   "outputs": [
    {
     "name": "stdout",
     "output_type": "stream",
     "text": [
      "Test set evaluation:\n",
      "_____________________________________\n",
      "MAE: 0.46277198555891813\n",
      "MSE: 0.7216872076086216\n",
      "RMSE: 0.8495217522869097\n",
      "R2 Square 0.9609593000535496\n",
      "__________________________________\n",
      "Train set evaluation:\n",
      "_____________________________________\n",
      "MAE: 0.5372404752820701\n",
      "MSE: 0.8576025904207923\n",
      "RMSE: 0.9260683508363691\n",
      "R2 Square 0.9551771563741491\n",
      "__________________________________\n"
     ]
    }
   ],
   "source": [
    "test_pred = points.predict(X_test)\n",
    "train_pred = points.predict(X_train)\n",
    "\n",
    "print('Test set evaluation:\\n_____________________________________')\n",
    "print_evaluate(y_test, test_pred)\n",
    "print('Train set evaluation:\\n_____________________________________')\n",
    "print_evaluate(y_train, train_pred)"
   ]
  },
  {
   "cell_type": "code",
   "execution_count": null,
   "id": "cbff11c7",
   "metadata": {
    "papermill": {
     "duration": 0.044976,
     "end_time": "2021-07-22T07:41:48.146357",
     "exception": false,
     "start_time": "2021-07-22T07:41:48.101381",
     "status": "completed"
    },
    "tags": []
   },
   "outputs": [],
   "source": []
  },
  {
   "cell_type": "code",
   "execution_count": null,
   "id": "904e83d2",
   "metadata": {
    "papermill": {
     "duration": 0.04503,
     "end_time": "2021-07-22T07:41:48.236751",
     "exception": false,
     "start_time": "2021-07-22T07:41:48.191721",
     "status": "completed"
    },
    "tags": []
   },
   "outputs": [],
   "source": []
  },
  {
   "cell_type": "code",
   "execution_count": null,
   "id": "c7cd6d40",
   "metadata": {
    "papermill": {
     "duration": 0.044965,
     "end_time": "2021-07-22T07:41:48.327562",
     "exception": false,
     "start_time": "2021-07-22T07:41:48.282597",
     "status": "completed"
    },
    "tags": []
   },
   "outputs": [],
   "source": []
  },
  {
   "cell_type": "code",
   "execution_count": null,
   "id": "8f218dfa",
   "metadata": {
    "papermill": {
     "duration": 0.04479,
     "end_time": "2021-07-22T07:41:48.417581",
     "exception": false,
     "start_time": "2021-07-22T07:41:48.372791",
     "status": "completed"
    },
    "tags": []
   },
   "outputs": [],
   "source": []
  },
  {
   "cell_type": "code",
   "execution_count": null,
   "id": "098d4249",
   "metadata": {
    "papermill": {
     "duration": 0.044868,
     "end_time": "2021-07-22T07:41:48.507659",
     "exception": false,
     "start_time": "2021-07-22T07:41:48.462791",
     "status": "completed"
    },
    "tags": []
   },
   "outputs": [],
   "source": []
  }
 ],
 "metadata": {
  "kernelspec": {
   "display_name": "Python 3 (ipykernel)",
   "language": "python",
   "name": "python3"
  },
  "language_info": {
   "codemirror_mode": {
    "name": "ipython",
    "version": 3
   },
   "file_extension": ".py",
   "mimetype": "text/x-python",
   "name": "python",
   "nbconvert_exporter": "python",
   "pygments_lexer": "ipython3",
   "version": "3.10.9"
  },
  "papermill": {
   "default_parameters": {},
   "duration": 16.63362,
   "end_time": "2021-07-22T07:41:49.364800",
   "environment_variables": {},
   "exception": null,
   "input_path": "__notebook__.ipynb",
   "output_path": "__notebook__.ipynb",
   "parameters": {},
   "start_time": "2021-07-22T07:41:32.731180",
   "version": "2.3.3"
  }
 },
 "nbformat": 4,
 "nbformat_minor": 5
}
